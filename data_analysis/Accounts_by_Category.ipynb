{
 "cells": [
  {
   "cell_type": "code",
   "execution_count": 2,
   "metadata": {},
   "outputs": [],
   "source": [
    "import pandas as pd\n",
    "import matplotlib.pyplot as plt\n",
    "import warnings\n",
    "import numpy as np\n",
    "warnings.filterwarnings('ignore')"
   ]
  },
  {
   "cell_type": "markdown",
   "metadata": {},
   "source": [
    "# Analyzing Accounts by Category\n",
    "\n",
    "* In the previous notebook, I looked at like and comment data across all 29 accounts. As I was doing this analysis, a new question sparked in my mind. Does this data vary by the \"type\" of account. By type of account I mean if the Instagram user prescribes to certain dietary guidelines. To do this analysis I collected data in Excel based on each account's biography which lists if they follow any healthy diets. This section categorizes all the accounts into four distinct categories: vegan, plant-based, paleo, and \"other\". Other means that the account does not specify a dietary preference or restriction. I am going to look specifically at number of Followers to see if certain dietary constraints garner more Followers than others. "
   ]
  },
  {
   "cell_type": "code",
   "execution_count": 13,
   "metadata": {},
   "outputs": [],
   "source": [
    "insta_df = pd.read_csv('../data/Instagram_accounts.csv')"
   ]
  },
  {
   "cell_type": "code",
   "execution_count": 14,
   "metadata": {},
   "outputs": [],
   "source": [
    "insta_df['likeCount'] = pd.to_numeric(insta_df['likeCount'],errors = 'coerce')"
   ]
  },
  {
   "cell_type": "code",
   "execution_count": 15,
   "metadata": {},
   "outputs": [
    {
     "data": {
      "text/plain": [
       "0        2020-11-15T21:43:08.000Z\n",
       "59258    2016-04-03T00:11:26.000Z\n",
       "Name: pubDate, dtype: object"
      ]
     },
     "execution_count": 15,
     "metadata": {},
     "output_type": "execute_result"
    }
   ],
   "source": [
    "insta_df['pubDate'].iloc[[0,-1]]"
   ]
  },
  {
   "cell_type": "code",
   "execution_count": 16,
   "metadata": {},
   "outputs": [],
   "source": [
    "insta_df2 = pd.read_csv('../data/Instagram_excel.csv')"
   ]
  },
  {
   "cell_type": "code",
   "execution_count": 18,
   "metadata": {},
   "outputs": [
    {
     "data": {
      "text/html": [
       "<div>\n",
       "<style scoped>\n",
       "    .dataframe tbody tr th:only-of-type {\n",
       "        vertical-align: middle;\n",
       "    }\n",
       "\n",
       "    .dataframe tbody tr th {\n",
       "        vertical-align: top;\n",
       "    }\n",
       "\n",
       "    .dataframe thead th {\n",
       "        text-align: right;\n",
       "    }\n",
       "</style>\n",
       "<table border=\"1\" class=\"dataframe\">\n",
       "  <thead>\n",
       "    <tr style=\"text-align: right;\">\n",
       "      <th></th>\n",
       "      <th>Account</th>\n",
       "      <th>Notes</th>\n",
       "      <th>Followers_num</th>\n",
       "    </tr>\n",
       "  </thead>\n",
       "  <tbody>\n",
       "    <tr>\n",
       "      <th>0</th>\n",
       "      <td>agathachidu</td>\n",
       "      <td>Other</td>\n",
       "      <td>14000.0</td>\n",
       "    </tr>\n",
       "    <tr>\n",
       "      <th>1</th>\n",
       "      <td>maddielymburner</td>\n",
       "      <td>Plant based</td>\n",
       "      <td>278000.0</td>\n",
       "    </tr>\n",
       "    <tr>\n",
       "      <th>2</th>\n",
       "      <td>healthyliciousvegan</td>\n",
       "      <td>Vegan</td>\n",
       "      <td>12000.0</td>\n",
       "    </tr>\n",
       "    <tr>\n",
       "      <th>3</th>\n",
       "      <td>pickuplimes</td>\n",
       "      <td>Plant based</td>\n",
       "      <td>614000.0</td>\n",
       "    </tr>\n",
       "    <tr>\n",
       "      <th>4</th>\n",
       "      <td>sweetpotatosoul</td>\n",
       "      <td>Vegan</td>\n",
       "      <td>178000.0</td>\n",
       "    </tr>\n",
       "    <tr>\n",
       "      <th>5</th>\n",
       "      <td>the_buddhist_chef</td>\n",
       "      <td>Vegan</td>\n",
       "      <td>305000.0</td>\n",
       "    </tr>\n",
       "    <tr>\n",
       "      <th>6</th>\n",
       "      <td>purelykaylie</td>\n",
       "      <td>Plant based</td>\n",
       "      <td>191000.0</td>\n",
       "    </tr>\n",
       "    <tr>\n",
       "      <th>7</th>\n",
       "      <td>pascalbaudar</td>\n",
       "      <td>Other</td>\n",
       "      <td>70000.0</td>\n",
       "    </tr>\n",
       "    <tr>\n",
       "      <th>8</th>\n",
       "      <td>plantifullybased</td>\n",
       "      <td>Plant based</td>\n",
       "      <td>224000.0</td>\n",
       "    </tr>\n",
       "    <tr>\n",
       "      <th>9</th>\n",
       "      <td>georginaburgess</td>\n",
       "      <td>Vegan</td>\n",
       "      <td>59000.0</td>\n",
       "    </tr>\n",
       "    <tr>\n",
       "      <th>10</th>\n",
       "      <td>agipsyinthekitchen</td>\n",
       "      <td>Other</td>\n",
       "      <td>118000.0</td>\n",
       "    </tr>\n",
       "    <tr>\n",
       "      <th>11</th>\n",
       "      <td>thecuriouschickpea</td>\n",
       "      <td>Vegan</td>\n",
       "      <td>68000.0</td>\n",
       "    </tr>\n",
       "    <tr>\n",
       "      <th>12</th>\n",
       "      <td>munchin.withmar</td>\n",
       "      <td>Other</td>\n",
       "      <td>14000.0</td>\n",
       "    </tr>\n",
       "    <tr>\n",
       "      <th>13</th>\n",
       "      <td>chefpetergordon</td>\n",
       "      <td>Other</td>\n",
       "      <td>24000.0</td>\n",
       "    </tr>\n",
       "    <tr>\n",
       "      <th>14</th>\n",
       "      <td>chocolatecoveredkatie</td>\n",
       "      <td>Vegan</td>\n",
       "      <td>467000.0</td>\n",
       "    </tr>\n",
       "    <tr>\n",
       "      <th>15</th>\n",
       "      <td>minimalistbaker</td>\n",
       "      <td>Other</td>\n",
       "      <td>2000000.0</td>\n",
       "    </tr>\n",
       "    <tr>\n",
       "      <th>16</th>\n",
       "      <td>shutthekaleup</td>\n",
       "      <td>Other</td>\n",
       "      <td>352000.0</td>\n",
       "    </tr>\n",
       "    <tr>\n",
       "      <th>17</th>\n",
       "      <td>choosingchia</td>\n",
       "      <td>Other</td>\n",
       "      <td>312000.0</td>\n",
       "    </tr>\n",
       "    <tr>\n",
       "      <th>18</th>\n",
       "      <td>lizmoody</td>\n",
       "      <td>Other</td>\n",
       "      <td>136000.0</td>\n",
       "    </tr>\n",
       "    <tr>\n",
       "      <th>19</th>\n",
       "      <td>cleanfooddirtycity</td>\n",
       "      <td>Other</td>\n",
       "      <td>109000.0</td>\n",
       "    </tr>\n",
       "    <tr>\n",
       "      <th>20</th>\n",
       "      <td>lonijane</td>\n",
       "      <td>Plant based</td>\n",
       "      <td>382000.0</td>\n",
       "    </tr>\n",
       "    <tr>\n",
       "      <th>21</th>\n",
       "      <td>marie.reginato</td>\n",
       "      <td>Other</td>\n",
       "      <td>66900.0</td>\n",
       "    </tr>\n",
       "    <tr>\n",
       "      <th>22</th>\n",
       "      <td>nomnompaleo</td>\n",
       "      <td>Paleo</td>\n",
       "      <td>482000.0</td>\n",
       "    </tr>\n",
       "    <tr>\n",
       "      <th>23</th>\n",
       "      <td>rachlmansfield</td>\n",
       "      <td>Other</td>\n",
       "      <td>419000.0</td>\n",
       "    </tr>\n",
       "    <tr>\n",
       "      <th>24</th>\n",
       "      <td>sproutedkitchen</td>\n",
       "      <td>Other</td>\n",
       "      <td>235000.0</td>\n",
       "    </tr>\n",
       "    <tr>\n",
       "      <th>25</th>\n",
       "      <td>mynewroots</td>\n",
       "      <td>Plant based</td>\n",
       "      <td>384000.0</td>\n",
       "    </tr>\n",
       "    <tr>\n",
       "      <th>26</th>\n",
       "      <td>thedelicious</td>\n",
       "      <td>Other</td>\n",
       "      <td>243000.0</td>\n",
       "    </tr>\n",
       "    <tr>\n",
       "      <th>27</th>\n",
       "      <td>talinegabriel</td>\n",
       "      <td>Other</td>\n",
       "      <td>480000.0</td>\n",
       "    </tr>\n",
       "    <tr>\n",
       "      <th>28</th>\n",
       "      <td>joybauer</td>\n",
       "      <td>Other</td>\n",
       "      <td>169000.0</td>\n",
       "    </tr>\n",
       "  </tbody>\n",
       "</table>\n",
       "</div>"
      ],
      "text/plain": [
       "                 Account         Notes  Followers_num\n",
       "0             agathachidu        Other        14000.0\n",
       "1         maddielymburner  Plant based       278000.0\n",
       "2     healthyliciousvegan        Vegan        12000.0\n",
       "3             pickuplimes  Plant based       614000.0\n",
       "4         sweetpotatosoul        Vegan       178000.0\n",
       "5       the_buddhist_chef        Vegan       305000.0\n",
       "6            purelykaylie  Plant based       191000.0\n",
       "7            pascalbaudar        Other        70000.0\n",
       "8        plantifullybased  Plant based       224000.0\n",
       "9         georginaburgess        Vegan        59000.0\n",
       "10     agipsyinthekitchen        Other       118000.0\n",
       "11     thecuriouschickpea        Vegan        68000.0\n",
       "12        munchin.withmar        Other        14000.0\n",
       "13        chefpetergordon        Other        24000.0\n",
       "14  chocolatecoveredkatie        Vegan       467000.0\n",
       "15        minimalistbaker        Other      2000000.0\n",
       "16          shutthekaleup        Other       352000.0\n",
       "17           choosingchia        Other       312000.0\n",
       "18               lizmoody        Other       136000.0\n",
       "19     cleanfooddirtycity        Other       109000.0\n",
       "20               lonijane  Plant based       382000.0\n",
       "21         marie.reginato        Other        66900.0\n",
       "22            nomnompaleo        Paleo       482000.0\n",
       "23         rachlmansfield        Other       419000.0\n",
       "24        sproutedkitchen        Other       235000.0\n",
       "25             mynewroots  Plant based       384000.0\n",
       "26           thedelicious        Other       243000.0\n",
       "27          talinegabriel        Other       480000.0\n",
       "28               joybauer        Other       169000.0"
      ]
     },
     "execution_count": 18,
     "metadata": {},
     "output_type": "execute_result"
    }
   ],
   "source": [
    "insta_df2['Followers_base'] = np.where(insta_df2['Followers'].str[-1] == 'k',1000,1000000)\n",
    "insta_df2['Followers_num'] = insta_df2['Followers'].map(lambda x: x.lstrip('+-').rstrip('kM')).astype(float)*insta_df2['Followers_base']\n",
    "insta_df2.drop(columns = ['Followers', 'Other', 'Followers_base'])"
   ]
  },
  {
   "cell_type": "markdown",
   "metadata": {},
   "source": [
    "This table has added qualitative columns to the original insta_df columns: \n",
    " - `Notes`: categorizes each account by the dietary restriction \n",
    " - `Other`: lists the profession of each person running the account \n",
    " - `Follower_num`: strips the letter at the end of the Followers \n",
    " \n",
    "Now we can look at the statistics for each account based on the type of dietary restriction: paleo, plant based, and vegan, and unspecified "
   ]
  },
  {
   "cell_type": "markdown",
   "metadata": {},
   "source": [
    "# Vegan Instagram Accounts: "
   ]
  },
  {
   "cell_type": "code",
   "execution_count": 40,
   "metadata": {},
   "outputs": [],
   "source": [
    "vegan_df = insta_df2.loc[insta_df2[\"Notes\"] == \"Vegan\"]"
   ]
  },
  {
   "cell_type": "code",
   "execution_count": 41,
   "metadata": {},
   "outputs": [
    {
     "data": {
      "text/html": [
       "<div>\n",
       "<style scoped>\n",
       "    .dataframe tbody tr th:only-of-type {\n",
       "        vertical-align: middle;\n",
       "    }\n",
       "\n",
       "    .dataframe tbody tr th {\n",
       "        vertical-align: top;\n",
       "    }\n",
       "\n",
       "    .dataframe thead th {\n",
       "        text-align: right;\n",
       "    }\n",
       "</style>\n",
       "<table border=\"1\" class=\"dataframe\">\n",
       "  <thead>\n",
       "    <tr style=\"text-align: right;\">\n",
       "      <th></th>\n",
       "      <th>Account</th>\n",
       "      <th>Followers</th>\n",
       "      <th>Notes</th>\n",
       "      <th>Other</th>\n",
       "      <th>Followers_base</th>\n",
       "      <th>Followers_num</th>\n",
       "    </tr>\n",
       "  </thead>\n",
       "  <tbody>\n",
       "    <tr>\n",
       "      <th>2</th>\n",
       "      <td>healthyliciousvegan</td>\n",
       "      <td>12k</td>\n",
       "      <td>Vegan</td>\n",
       "      <td>Blogger</td>\n",
       "      <td>1000</td>\n",
       "      <td>12000.0</td>\n",
       "    </tr>\n",
       "    <tr>\n",
       "      <th>4</th>\n",
       "      <td>sweetpotatosoul</td>\n",
       "      <td>178k</td>\n",
       "      <td>Vegan</td>\n",
       "      <td>Blogger</td>\n",
       "      <td>1000</td>\n",
       "      <td>178000.0</td>\n",
       "    </tr>\n",
       "    <tr>\n",
       "      <th>5</th>\n",
       "      <td>the_buddhist_chef</td>\n",
       "      <td>305k</td>\n",
       "      <td>Vegan</td>\n",
       "      <td>author</td>\n",
       "      <td>1000</td>\n",
       "      <td>305000.0</td>\n",
       "    </tr>\n",
       "    <tr>\n",
       "      <th>9</th>\n",
       "      <td>georginaburgess</td>\n",
       "      <td>59k</td>\n",
       "      <td>Vegan</td>\n",
       "      <td>Blogger</td>\n",
       "      <td>1000</td>\n",
       "      <td>59000.0</td>\n",
       "    </tr>\n",
       "    <tr>\n",
       "      <th>11</th>\n",
       "      <td>thecuriouschickpea</td>\n",
       "      <td>68k</td>\n",
       "      <td>Vegan</td>\n",
       "      <td>Blogger</td>\n",
       "      <td>1000</td>\n",
       "      <td>68000.0</td>\n",
       "    </tr>\n",
       "    <tr>\n",
       "      <th>14</th>\n",
       "      <td>chocolatecoveredkatie</td>\n",
       "      <td>467k</td>\n",
       "      <td>Vegan</td>\n",
       "      <td>Blogger</td>\n",
       "      <td>1000</td>\n",
       "      <td>467000.0</td>\n",
       "    </tr>\n",
       "  </tbody>\n",
       "</table>\n",
       "</div>"
      ],
      "text/plain": [
       "                 Account  Followers  Notes    Other  Followers_base  \\\n",
       "2     healthyliciousvegan       12k  Vegan  Blogger            1000   \n",
       "4         sweetpotatosoul      178k  Vegan  Blogger            1000   \n",
       "5       the_buddhist_chef      305k  Vegan   author            1000   \n",
       "9         georginaburgess       59k  Vegan  Blogger            1000   \n",
       "11     thecuriouschickpea       68k  Vegan  Blogger            1000   \n",
       "14  chocolatecoveredkatie      467k  Vegan  Blogger            1000   \n",
       "\n",
       "    Followers_num  \n",
       "2         12000.0  \n",
       "4        178000.0  \n",
       "5        305000.0  \n",
       "9         59000.0  \n",
       "11        68000.0  \n",
       "14       467000.0  "
      ]
     },
     "execution_count": 41,
     "metadata": {},
     "output_type": "execute_result"
    }
   ],
   "source": [
    "vegan_df"
   ]
  },
  {
   "cell_type": "code",
   "execution_count": 42,
   "metadata": {},
   "outputs": [
    {
     "data": {
      "text/plain": [
       "181500.0"
      ]
     },
     "execution_count": 42,
     "metadata": {},
     "output_type": "execute_result"
    }
   ],
   "source": [
    "vegan_df['Followers_num'].mean()"
   ]
  },
  {
   "cell_type": "markdown",
   "metadata": {},
   "source": [
    "There are six plant-based accounts. Across all six accounts that prescribe to veganism, they have an average of 181,500 Followers."
   ]
  },
  {
   "cell_type": "markdown",
   "metadata": {},
   "source": [
    " # \"Unspecified\" Instagram accounts:\n",
    "  - Other means that the account does not specify a dietary preference or restriction."
   ]
  },
  {
   "cell_type": "code",
   "execution_count": 43,
   "metadata": {},
   "outputs": [],
   "source": [
    "other_df = insta_df2.loc[insta_df2[\"Notes\"] == \"Other\"]"
   ]
  },
  {
   "cell_type": "code",
   "execution_count": 44,
   "metadata": {},
   "outputs": [
    {
     "data": {
      "text/html": [
       "<div>\n",
       "<style scoped>\n",
       "    .dataframe tbody tr th:only-of-type {\n",
       "        vertical-align: middle;\n",
       "    }\n",
       "\n",
       "    .dataframe tbody tr th {\n",
       "        vertical-align: top;\n",
       "    }\n",
       "\n",
       "    .dataframe thead th {\n",
       "        text-align: right;\n",
       "    }\n",
       "</style>\n",
       "<table border=\"1\" class=\"dataframe\">\n",
       "  <thead>\n",
       "    <tr style=\"text-align: right;\">\n",
       "      <th></th>\n",
       "      <th>Account</th>\n",
       "      <th>Followers</th>\n",
       "      <th>Notes</th>\n",
       "      <th>Other</th>\n",
       "      <th>Followers_base</th>\n",
       "      <th>Followers_num</th>\n",
       "    </tr>\n",
       "  </thead>\n",
       "  <tbody>\n",
       "    <tr>\n",
       "      <th>0</th>\n",
       "      <td>agathachidu</td>\n",
       "      <td>14k</td>\n",
       "      <td>Other</td>\n",
       "      <td>Health coach</td>\n",
       "      <td>1000</td>\n",
       "      <td>14000.0</td>\n",
       "    </tr>\n",
       "    <tr>\n",
       "      <th>7</th>\n",
       "      <td>pascalbaudar</td>\n",
       "      <td>70k</td>\n",
       "      <td>Other</td>\n",
       "      <td>Food artist and author</td>\n",
       "      <td>1000</td>\n",
       "      <td>70000.0</td>\n",
       "    </tr>\n",
       "    <tr>\n",
       "      <th>10</th>\n",
       "      <td>agipsyinthekitchen</td>\n",
       "      <td>118k</td>\n",
       "      <td>Other</td>\n",
       "      <td>Blogger</td>\n",
       "      <td>1000</td>\n",
       "      <td>118000.0</td>\n",
       "    </tr>\n",
       "    <tr>\n",
       "      <th>12</th>\n",
       "      <td>munchin.withmar</td>\n",
       "      <td>14k</td>\n",
       "      <td>Other</td>\n",
       "      <td>Blogger</td>\n",
       "      <td>1000</td>\n",
       "      <td>14000.0</td>\n",
       "    </tr>\n",
       "    <tr>\n",
       "      <th>13</th>\n",
       "      <td>chefpetergordon</td>\n",
       "      <td>24k</td>\n",
       "      <td>Other</td>\n",
       "      <td>Chef</td>\n",
       "      <td>1000</td>\n",
       "      <td>24000.0</td>\n",
       "    </tr>\n",
       "    <tr>\n",
       "      <th>15</th>\n",
       "      <td>minimalistbaker</td>\n",
       "      <td>2M</td>\n",
       "      <td>Other</td>\n",
       "      <td>Blogger</td>\n",
       "      <td>1000000</td>\n",
       "      <td>2000000.0</td>\n",
       "    </tr>\n",
       "    <tr>\n",
       "      <th>16</th>\n",
       "      <td>shutthekaleup</td>\n",
       "      <td>352k</td>\n",
       "      <td>Other</td>\n",
       "      <td>Blogger</td>\n",
       "      <td>1000</td>\n",
       "      <td>352000.0</td>\n",
       "    </tr>\n",
       "    <tr>\n",
       "      <th>17</th>\n",
       "      <td>choosingchia</td>\n",
       "      <td>312k</td>\n",
       "      <td>Other</td>\n",
       "      <td>Blogger</td>\n",
       "      <td>1000</td>\n",
       "      <td>312000.0</td>\n",
       "    </tr>\n",
       "    <tr>\n",
       "      <th>18</th>\n",
       "      <td>lizmoody</td>\n",
       "      <td>136k</td>\n",
       "      <td>Other</td>\n",
       "      <td>Journalist</td>\n",
       "      <td>1000</td>\n",
       "      <td>136000.0</td>\n",
       "    </tr>\n",
       "    <tr>\n",
       "      <th>19</th>\n",
       "      <td>cleanfooddirtycity</td>\n",
       "      <td>109k</td>\n",
       "      <td>Other</td>\n",
       "      <td>Blogger</td>\n",
       "      <td>1000</td>\n",
       "      <td>109000.0</td>\n",
       "    </tr>\n",
       "    <tr>\n",
       "      <th>21</th>\n",
       "      <td>marie.reginato</td>\n",
       "      <td>66.9k</td>\n",
       "      <td>Other</td>\n",
       "      <td>Speaker and author</td>\n",
       "      <td>1000</td>\n",
       "      <td>66900.0</td>\n",
       "    </tr>\n",
       "    <tr>\n",
       "      <th>23</th>\n",
       "      <td>rachlmansfield</td>\n",
       "      <td>419k</td>\n",
       "      <td>Other</td>\n",
       "      <td>Author, investor</td>\n",
       "      <td>1000</td>\n",
       "      <td>419000.0</td>\n",
       "    </tr>\n",
       "    <tr>\n",
       "      <th>24</th>\n",
       "      <td>sproutedkitchen</td>\n",
       "      <td>235k</td>\n",
       "      <td>Other</td>\n",
       "      <td>Author</td>\n",
       "      <td>1000</td>\n",
       "      <td>235000.0</td>\n",
       "    </tr>\n",
       "    <tr>\n",
       "      <th>26</th>\n",
       "      <td>thedelicious</td>\n",
       "      <td>243k</td>\n",
       "      <td>Other</td>\n",
       "      <td>Blogger</td>\n",
       "      <td>1000</td>\n",
       "      <td>243000.0</td>\n",
       "    </tr>\n",
       "    <tr>\n",
       "      <th>27</th>\n",
       "      <td>talinegabriel</td>\n",
       "      <td>480k</td>\n",
       "      <td>Other</td>\n",
       "      <td>Blogger</td>\n",
       "      <td>1000</td>\n",
       "      <td>480000.0</td>\n",
       "    </tr>\n",
       "    <tr>\n",
       "      <th>28</th>\n",
       "      <td>joybauer</td>\n",
       "      <td>169k</td>\n",
       "      <td>Other</td>\n",
       "      <td>Nutritionist, author</td>\n",
       "      <td>1000</td>\n",
       "      <td>169000.0</td>\n",
       "    </tr>\n",
       "  </tbody>\n",
       "</table>\n",
       "</div>"
      ],
      "text/plain": [
       "              Account  Followers  Notes                   Other  \\\n",
       "0          agathachidu       14k  Other            Health coach   \n",
       "7         pascalbaudar       70k  Other  Food artist and author   \n",
       "10  agipsyinthekitchen      118k  Other                 Blogger   \n",
       "12     munchin.withmar       14k  Other                 Blogger   \n",
       "13     chefpetergordon       24k  Other                    Chef   \n",
       "15     minimalistbaker        2M  Other                 Blogger   \n",
       "16       shutthekaleup      352k  Other                 Blogger   \n",
       "17        choosingchia      312k  Other                 Blogger   \n",
       "18            lizmoody      136k  Other              Journalist   \n",
       "19  cleanfooddirtycity      109k  Other                 Blogger   \n",
       "21      marie.reginato     66.9k  Other      Speaker and author   \n",
       "23      rachlmansfield      419k  Other        Author, investor   \n",
       "24     sproutedkitchen      235k  Other                  Author   \n",
       "26        thedelicious      243k  Other                 Blogger   \n",
       "27       talinegabriel      480k  Other                 Blogger   \n",
       "28            joybauer      169k  Other    Nutritionist, author   \n",
       "\n",
       "    Followers_base  Followers_num  \n",
       "0             1000        14000.0  \n",
       "7             1000        70000.0  \n",
       "10            1000       118000.0  \n",
       "12            1000        14000.0  \n",
       "13            1000        24000.0  \n",
       "15         1000000      2000000.0  \n",
       "16            1000       352000.0  \n",
       "17            1000       312000.0  \n",
       "18            1000       136000.0  \n",
       "19            1000       109000.0  \n",
       "21            1000        66900.0  \n",
       "23            1000       419000.0  \n",
       "24            1000       235000.0  \n",
       "26            1000       243000.0  \n",
       "27            1000       480000.0  \n",
       "28            1000       169000.0  "
      ]
     },
     "execution_count": 44,
     "metadata": {},
     "output_type": "execute_result"
    }
   ],
   "source": [
    "other_df"
   ]
  },
  {
   "cell_type": "code",
   "execution_count": 45,
   "metadata": {},
   "outputs": [
    {
     "data": {
      "text/plain": [
       "297618.75"
      ]
     },
     "execution_count": 45,
     "metadata": {},
     "output_type": "execute_result"
    }
   ],
   "source": [
    "other_df['Followers_num'].mean()"
   ]
  },
  {
   "cell_type": "markdown",
   "metadata": {},
   "source": [
    "There are sixteen accounts that do not specify their dietary restraints. Across all sixteen accounts with no specified dietary restriction, there are an average of 297,618 Followers."
   ]
  },
  {
   "cell_type": "markdown",
   "metadata": {},
   "source": [
    "# Paleo Instagram accounts:"
   ]
  },
  {
   "cell_type": "code",
   "execution_count": 46,
   "metadata": {},
   "outputs": [
    {
     "data": {
      "text/html": [
       "<div>\n",
       "<style scoped>\n",
       "    .dataframe tbody tr th:only-of-type {\n",
       "        vertical-align: middle;\n",
       "    }\n",
       "\n",
       "    .dataframe tbody tr th {\n",
       "        vertical-align: top;\n",
       "    }\n",
       "\n",
       "    .dataframe thead th {\n",
       "        text-align: right;\n",
       "    }\n",
       "</style>\n",
       "<table border=\"1\" class=\"dataframe\">\n",
       "  <thead>\n",
       "    <tr style=\"text-align: right;\">\n",
       "      <th></th>\n",
       "      <th>Account</th>\n",
       "      <th>Followers</th>\n",
       "      <th>Notes</th>\n",
       "      <th>Other</th>\n",
       "      <th>Followers_base</th>\n",
       "      <th>Followers_num</th>\n",
       "    </tr>\n",
       "  </thead>\n",
       "  <tbody>\n",
       "    <tr>\n",
       "      <th>22</th>\n",
       "      <td>nomnompaleo</td>\n",
       "      <td>482k</td>\n",
       "      <td>Paleo</td>\n",
       "      <td>Author</td>\n",
       "      <td>1000</td>\n",
       "      <td>482000.0</td>\n",
       "    </tr>\n",
       "  </tbody>\n",
       "</table>\n",
       "</div>"
      ],
      "text/plain": [
       "       Account  Followers  Notes   Other  Followers_base  Followers_num\n",
       "22  nomnompaleo      482k  Paleo  Author            1000       482000.0"
      ]
     },
     "execution_count": 46,
     "metadata": {},
     "output_type": "execute_result"
    }
   ],
   "source": [
    "paleo_df = insta_df2.loc[insta_df2[\"Notes\"] == \"Paleo\"]\n",
    "paleo_df"
   ]
  },
  {
   "cell_type": "code",
   "execution_count": 47,
   "metadata": {},
   "outputs": [
    {
     "data": {
      "text/plain": [
       "482000.0"
      ]
     },
     "execution_count": 47,
     "metadata": {},
     "output_type": "execute_result"
    }
   ],
   "source": [
    "paleo_df['Followers_num'].mean()"
   ]
  },
  {
   "cell_type": "markdown",
   "metadata": {},
   "source": [
    "You'll notice this category only as one account. As a result, it is difficult to consider this a sample of the larger category. "
   ]
  },
  {
   "cell_type": "markdown",
   "metadata": {},
   "source": [
    "# Plant-based Instagram Accounts:"
   ]
  },
  {
   "cell_type": "code",
   "execution_count": 48,
   "metadata": {},
   "outputs": [
    {
     "data": {
      "text/html": [
       "<div>\n",
       "<style scoped>\n",
       "    .dataframe tbody tr th:only-of-type {\n",
       "        vertical-align: middle;\n",
       "    }\n",
       "\n",
       "    .dataframe tbody tr th {\n",
       "        vertical-align: top;\n",
       "    }\n",
       "\n",
       "    .dataframe thead th {\n",
       "        text-align: right;\n",
       "    }\n",
       "</style>\n",
       "<table border=\"1\" class=\"dataframe\">\n",
       "  <thead>\n",
       "    <tr style=\"text-align: right;\">\n",
       "      <th></th>\n",
       "      <th>Account</th>\n",
       "      <th>Followers</th>\n",
       "      <th>Notes</th>\n",
       "      <th>Other</th>\n",
       "      <th>Followers_base</th>\n",
       "      <th>Followers_num</th>\n",
       "    </tr>\n",
       "  </thead>\n",
       "  <tbody>\n",
       "    <tr>\n",
       "      <th>1</th>\n",
       "      <td>maddielymburner</td>\n",
       "      <td>278k</td>\n",
       "      <td>Plant based</td>\n",
       "      <td>Blogger</td>\n",
       "      <td>1000</td>\n",
       "      <td>278000.0</td>\n",
       "    </tr>\n",
       "    <tr>\n",
       "      <th>3</th>\n",
       "      <td>pickuplimes</td>\n",
       "      <td>614k</td>\n",
       "      <td>Plant based</td>\n",
       "      <td>Dietician</td>\n",
       "      <td>1000</td>\n",
       "      <td>614000.0</td>\n",
       "    </tr>\n",
       "    <tr>\n",
       "      <th>6</th>\n",
       "      <td>purelykaylie</td>\n",
       "      <td>191k</td>\n",
       "      <td>Plant based</td>\n",
       "      <td>Blogger</td>\n",
       "      <td>1000</td>\n",
       "      <td>191000.0</td>\n",
       "    </tr>\n",
       "    <tr>\n",
       "      <th>8</th>\n",
       "      <td>plantifullybased</td>\n",
       "      <td>224k</td>\n",
       "      <td>Plant based</td>\n",
       "      <td>Blogger</td>\n",
       "      <td>1000</td>\n",
       "      <td>224000.0</td>\n",
       "    </tr>\n",
       "    <tr>\n",
       "      <th>20</th>\n",
       "      <td>lonijane</td>\n",
       "      <td>382k</td>\n",
       "      <td>Plant based</td>\n",
       "      <td>Author</td>\n",
       "      <td>1000</td>\n",
       "      <td>382000.0</td>\n",
       "    </tr>\n",
       "    <tr>\n",
       "      <th>25</th>\n",
       "      <td>mynewroots</td>\n",
       "      <td>384k</td>\n",
       "      <td>Plant based</td>\n",
       "      <td>Nutritionist</td>\n",
       "      <td>1000</td>\n",
       "      <td>384000.0</td>\n",
       "    </tr>\n",
       "  </tbody>\n",
       "</table>\n",
       "</div>"
      ],
      "text/plain": [
       "            Account  Followers        Notes         Other  Followers_base  \\\n",
       "1    maddielymburner      278k  Plant based       Blogger            1000   \n",
       "3        pickuplimes      614k  Plant based     Dietician            1000   \n",
       "6       purelykaylie      191k  Plant based       Blogger            1000   \n",
       "8   plantifullybased      224k  Plant based       Blogger            1000   \n",
       "20          lonijane      382k  Plant based        Author            1000   \n",
       "25        mynewroots      384k  Plant based  Nutritionist            1000   \n",
       "\n",
       "    Followers_num  \n",
       "1        278000.0  \n",
       "3        614000.0  \n",
       "6        191000.0  \n",
       "8        224000.0  \n",
       "20       382000.0  \n",
       "25       384000.0  "
      ]
     },
     "execution_count": 48,
     "metadata": {},
     "output_type": "execute_result"
    }
   ],
   "source": [
    "plantbased_df = insta_df2.loc[insta_df2[\"Notes\"] == \"Plant based\"]\n",
    "plantbased_df"
   ]
  },
  {
   "cell_type": "code",
   "execution_count": 49,
   "metadata": {},
   "outputs": [
    {
     "data": {
      "text/plain": [
       "345500.0"
      ]
     },
     "execution_count": 49,
     "metadata": {},
     "output_type": "execute_result"
    }
   ],
   "source": [
    "plantbased_df['Followers_num'].mean()"
   ]
  },
  {
   "cell_type": "markdown",
   "metadata": {},
   "source": [
    "There are six plant-based accounts. Across all six, they have an average of 345,500 Followers."
   ]
  },
  {
   "cell_type": "markdown",
   "metadata": {},
   "source": [
    "# Merging two datasets– a comprehensive view: \n",
    " - Now I am going to combine the insta_df which shows all posts for 29 accounts and insta_df2 which categorizes all 29 accounts by their dietary type. This will allow us to look at more than just follower data. Now we can see likes, comments, post URLs, pubDate, number of Followers, dietary preference and profession all in one spot. Unfortunately these comparisons are not telling as there are an inconsistent number of accounts per group and there is only one paleo user. "
   ]
  },
  {
   "cell_type": "code",
   "execution_count": 50,
   "metadata": {},
   "outputs": [
    {
     "data": {
      "text/html": [
       "<div>\n",
       "<style scoped>\n",
       "    .dataframe tbody tr th:only-of-type {\n",
       "        vertical-align: middle;\n",
       "    }\n",
       "\n",
       "    .dataframe tbody tr th {\n",
       "        vertical-align: top;\n",
       "    }\n",
       "\n",
       "    .dataframe thead th {\n",
       "        text-align: right;\n",
       "    }\n",
       "</style>\n",
       "<table border=\"1\" class=\"dataframe\">\n",
       "  <thead>\n",
       "    <tr style=\"text-align: right;\">\n",
       "      <th></th>\n",
       "      <th>postUrl</th>\n",
       "      <th>description</th>\n",
       "      <th>commentCount</th>\n",
       "      <th>likeCount</th>\n",
       "      <th>pubDate</th>\n",
       "      <th>username</th>\n",
       "      <th>Followers</th>\n",
       "      <th>Notes</th>\n",
       "      <th>Other</th>\n",
       "      <th>Followers_base</th>\n",
       "      <th>Followers_num</th>\n",
       "    </tr>\n",
       "  </thead>\n",
       "  <tbody>\n",
       "    <tr>\n",
       "      <th>0</th>\n",
       "      <td>https://www.instagram.com/p/CGDGulUhetO/</td>\n",
       "      <td>just really happy &amp;amp; grateful for life righ...</td>\n",
       "      <td>420.0</td>\n",
       "      <td>33088.0</td>\n",
       "      <td>2020-10-07T16:10:21.000Z</td>\n",
       "      <td>maddielymburner</td>\n",
       "      <td>278k</td>\n",
       "      <td>Plant based</td>\n",
       "      <td>Blogger</td>\n",
       "      <td>1000</td>\n",
       "      <td>278000.0</td>\n",
       "    </tr>\n",
       "    <tr>\n",
       "      <th>1</th>\n",
       "      <td>https://www.instagram.com/p/CGDGulThoKV/</td>\n",
       "      <td>just really happy &amp;amp; grateful for life righ...</td>\n",
       "      <td>420.0</td>\n",
       "      <td>33088.0</td>\n",
       "      <td>2020-10-07T16:10:21.000Z</td>\n",
       "      <td>maddielymburner</td>\n",
       "      <td>278k</td>\n",
       "      <td>Plant based</td>\n",
       "      <td>Blogger</td>\n",
       "      <td>1000</td>\n",
       "      <td>278000.0</td>\n",
       "    </tr>\n",
       "    <tr>\n",
       "      <th>2</th>\n",
       "      <td>https://www.instagram.com/p/CFsMm1vBfA4/</td>\n",
       "      <td>Had the best week away in one of my favourite ...</td>\n",
       "      <td>138.0</td>\n",
       "      <td>32231.0</td>\n",
       "      <td>2020-09-28T18:39:12.000Z</td>\n",
       "      <td>maddielymburner</td>\n",
       "      <td>278k</td>\n",
       "      <td>Plant based</td>\n",
       "      <td>Blogger</td>\n",
       "      <td>1000</td>\n",
       "      <td>278000.0</td>\n",
       "    </tr>\n",
       "    <tr>\n",
       "      <th>3</th>\n",
       "      <td>https://www.instagram.com/p/CFsMm1tBvVA/</td>\n",
       "      <td>Had the best week away in one of my favourite ...</td>\n",
       "      <td>138.0</td>\n",
       "      <td>32231.0</td>\n",
       "      <td>2020-09-28T18:39:12.000Z</td>\n",
       "      <td>maddielymburner</td>\n",
       "      <td>278k</td>\n",
       "      <td>Plant based</td>\n",
       "      <td>Blogger</td>\n",
       "      <td>1000</td>\n",
       "      <td>278000.0</td>\n",
       "    </tr>\n",
       "    <tr>\n",
       "      <th>4</th>\n",
       "      <td>https://www.instagram.com/p/CFsMm1uBxx7/</td>\n",
       "      <td>Had the best week away in one of my favourite ...</td>\n",
       "      <td>138.0</td>\n",
       "      <td>32231.0</td>\n",
       "      <td>2020-09-28T18:39:12.000Z</td>\n",
       "      <td>maddielymburner</td>\n",
       "      <td>278k</td>\n",
       "      <td>Plant based</td>\n",
       "      <td>Blogger</td>\n",
       "      <td>1000</td>\n",
       "      <td>278000.0</td>\n",
       "    </tr>\n",
       "    <tr>\n",
       "      <th>...</th>\n",
       "      <td>...</td>\n",
       "      <td>...</td>\n",
       "      <td>...</td>\n",
       "      <td>...</td>\n",
       "      <td>...</td>\n",
       "      <td>...</td>\n",
       "      <td>...</td>\n",
       "      <td>...</td>\n",
       "      <td>...</td>\n",
       "      <td>...</td>\n",
       "      <td>...</td>\n",
       "    </tr>\n",
       "    <tr>\n",
       "      <th>54578</th>\n",
       "      <td>https://www.instagram.com/p/BD1Rv3bMZrW/</td>\n",
       "      <td>Feels like summer ☀️ #fruitlovers #hippielane</td>\n",
       "      <td>357.0</td>\n",
       "      <td>23297.0</td>\n",
       "      <td>2016-04-05T20:45:15.000Z</td>\n",
       "      <td>talinegabriel</td>\n",
       "      <td>480k</td>\n",
       "      <td>Other</td>\n",
       "      <td>Blogger</td>\n",
       "      <td>1000</td>\n",
       "      <td>480000.0</td>\n",
       "    </tr>\n",
       "    <tr>\n",
       "      <th>54579</th>\n",
       "      <td>https://www.instagram.com/p/BDypBjEMZvs/</td>\n",
       "      <td>Rainbow Sushi for breakfast 🍙☄✨ #sushilovers #...</td>\n",
       "      <td>239.0</td>\n",
       "      <td>14460.0</td>\n",
       "      <td>2016-04-04T20:10:56.000Z</td>\n",
       "      <td>talinegabriel</td>\n",
       "      <td>480k</td>\n",
       "      <td>Other</td>\n",
       "      <td>Blogger</td>\n",
       "      <td>1000</td>\n",
       "      <td>480000.0</td>\n",
       "    </tr>\n",
       "    <tr>\n",
       "      <th>54580</th>\n",
       "      <td>https://www.instagram.com/p/BDx5GYusZmw/</td>\n",
       "      <td>Does breakfast count? 🤔🙃☺️ #goals #hippielane</td>\n",
       "      <td>165.0</td>\n",
       "      <td>6563.0</td>\n",
       "      <td>2016-04-04T13:12:09.000Z</td>\n",
       "      <td>talinegabriel</td>\n",
       "      <td>480k</td>\n",
       "      <td>Other</td>\n",
       "      <td>Blogger</td>\n",
       "      <td>1000</td>\n",
       "      <td>480000.0</td>\n",
       "    </tr>\n",
       "    <tr>\n",
       "      <th>54581</th>\n",
       "      <td>https://www.instagram.com/p/BDwNpSpMZoq/</td>\n",
       "      <td>Strawberries &amp;amp; Cream dreams 💞💫✨ #hippielane</td>\n",
       "      <td>552.0</td>\n",
       "      <td>32979.0</td>\n",
       "      <td>2016-04-03T21:33:12.000Z</td>\n",
       "      <td>talinegabriel</td>\n",
       "      <td>480k</td>\n",
       "      <td>Other</td>\n",
       "      <td>Blogger</td>\n",
       "      <td>1000</td>\n",
       "      <td>480000.0</td>\n",
       "    </tr>\n",
       "    <tr>\n",
       "      <th>54582</th>\n",
       "      <td>https://www.instagram.com/p/BDt69RzMZur/</td>\n",
       "      <td>Happy Sunday lovers ∘≫❥✮∘\\nGet my buckwheat pa...</td>\n",
       "      <td>332.0</td>\n",
       "      <td>21960.0</td>\n",
       "      <td>2016-04-03T00:11:26.000Z</td>\n",
       "      <td>talinegabriel</td>\n",
       "      <td>480k</td>\n",
       "      <td>Other</td>\n",
       "      <td>Blogger</td>\n",
       "      <td>1000</td>\n",
       "      <td>480000.0</td>\n",
       "    </tr>\n",
       "  </tbody>\n",
       "</table>\n",
       "<p>54583 rows × 11 columns</p>\n",
       "</div>"
      ],
      "text/plain": [
       "                                        postUrl  \\\n",
       "0      https://www.instagram.com/p/CGDGulUhetO/   \n",
       "1      https://www.instagram.com/p/CGDGulThoKV/   \n",
       "2      https://www.instagram.com/p/CFsMm1vBfA4/   \n",
       "3      https://www.instagram.com/p/CFsMm1tBvVA/   \n",
       "4      https://www.instagram.com/p/CFsMm1uBxx7/   \n",
       "...                                         ...   \n",
       "54578  https://www.instagram.com/p/BD1Rv3bMZrW/   \n",
       "54579  https://www.instagram.com/p/BDypBjEMZvs/   \n",
       "54580  https://www.instagram.com/p/BDx5GYusZmw/   \n",
       "54581  https://www.instagram.com/p/BDwNpSpMZoq/   \n",
       "54582  https://www.instagram.com/p/BDt69RzMZur/   \n",
       "\n",
       "                                             description  commentCount  \\\n",
       "0      just really happy &amp; grateful for life righ...         420.0   \n",
       "1      just really happy &amp; grateful for life righ...         420.0   \n",
       "2      Had the best week away in one of my favourite ...         138.0   \n",
       "3      Had the best week away in one of my favourite ...         138.0   \n",
       "4      Had the best week away in one of my favourite ...         138.0   \n",
       "...                                                  ...           ...   \n",
       "54578      Feels like summer ☀️ #fruitlovers #hippielane         357.0   \n",
       "54579  Rainbow Sushi for breakfast 🍙☄✨ #sushilovers #...         239.0   \n",
       "54580      Does breakfast count? 🤔🙃☺️ #goals #hippielane         165.0   \n",
       "54581    Strawberries &amp; Cream dreams 💞💫✨ #hippielane         552.0   \n",
       "54582  Happy Sunday lovers ∘≫❥✮∘\\nGet my buckwheat pa...         332.0   \n",
       "\n",
       "       likeCount                   pubDate         username Followers  \\\n",
       "0        33088.0  2020-10-07T16:10:21.000Z  maddielymburner      278k   \n",
       "1        33088.0  2020-10-07T16:10:21.000Z  maddielymburner      278k   \n",
       "2        32231.0  2020-09-28T18:39:12.000Z  maddielymburner      278k   \n",
       "3        32231.0  2020-09-28T18:39:12.000Z  maddielymburner      278k   \n",
       "4        32231.0  2020-09-28T18:39:12.000Z  maddielymburner      278k   \n",
       "...          ...                       ...              ...       ...   \n",
       "54578    23297.0  2016-04-05T20:45:15.000Z    talinegabriel      480k   \n",
       "54579    14460.0  2016-04-04T20:10:56.000Z    talinegabriel      480k   \n",
       "54580     6563.0  2016-04-04T13:12:09.000Z    talinegabriel      480k   \n",
       "54581    32979.0  2016-04-03T21:33:12.000Z    talinegabriel      480k   \n",
       "54582    21960.0  2016-04-03T00:11:26.000Z    talinegabriel      480k   \n",
       "\n",
       "             Notes    Other  Followers_base  Followers_num  \n",
       "0      Plant based  Blogger            1000       278000.0  \n",
       "1      Plant based  Blogger            1000       278000.0  \n",
       "2      Plant based  Blogger            1000       278000.0  \n",
       "3      Plant based  Blogger            1000       278000.0  \n",
       "4      Plant based  Blogger            1000       278000.0  \n",
       "...            ...      ...             ...            ...  \n",
       "54578        Other  Blogger            1000       480000.0  \n",
       "54579        Other  Blogger            1000       480000.0  \n",
       "54580        Other  Blogger            1000       480000.0  \n",
       "54581        Other  Blogger            1000       480000.0  \n",
       "54582        Other  Blogger            1000       480000.0  \n",
       "\n",
       "[54583 rows x 11 columns]"
      ]
     },
     "execution_count": 50,
     "metadata": {},
     "output_type": "execute_result"
    }
   ],
   "source": [
    "combined_df = pd.merge(insta_df, insta_df2, left_on='username', right_on='Account ')\n",
    "combined_df = combined_df.drop(columns = 'Account ')\n",
    "combined_df"
   ]
  },
  {
   "cell_type": "code",
   "execution_count": 51,
   "metadata": {},
   "outputs": [
    {
     "data": {
      "text/plain": [
       "Notes\n",
       "Other          444435.141906\n",
       "Paleo          482000.000000\n",
       "Plant based    330200.613900\n",
       "Vegan          188405.729772\n",
       "Name: Followers_num, dtype: float64"
      ]
     },
     "execution_count": 51,
     "metadata": {},
     "output_type": "execute_result"
    }
   ],
   "source": [
    "combined_df.groupby('Notes')['Followers_num'].mean()"
   ]
  },
  {
   "cell_type": "markdown",
   "metadata": {},
   "source": [
    "According to this data, paleo accounts have the most followers; however, I think this is an inaccurate statement to make as only 1 of the 29 accounts identified as paleo. We would need more data to say anything definitive about this."
   ]
  },
  {
   "cell_type": "code",
   "execution_count": 52,
   "metadata": {},
   "outputs": [
    {
     "data": {
      "text/plain": [
       "Notes\n",
       "Other          3824.781520\n",
       "Paleo          1944.851723\n",
       "Plant based    5830.157312\n",
       "Vegan          2566.188540\n",
       "Name: likeCount, dtype: float64"
      ]
     },
     "execution_count": 52,
     "metadata": {},
     "output_type": "execute_result"
    }
   ],
   "source": [
    "combined_df.groupby('Notes')['likeCount'].mean()"
   ]
  },
  {
   "cell_type": "markdown",
   "metadata": {},
   "source": [
    "According to this data, plant-based accounts get the most likes and paleo accounts get the least amount of likes per post."
   ]
  },
  {
   "cell_type": "code",
   "execution_count": 53,
   "metadata": {},
   "outputs": [
    {
     "data": {
      "text/plain": [
       "Notes\n",
       "Other          104.014376\n",
       "Paleo           73.654859\n",
       "Plant based    110.320873\n",
       "Vegan           68.050329\n",
       "Name: commentCount, dtype: float64"
      ]
     },
     "execution_count": 53,
     "metadata": {},
     "output_type": "execute_result"
    }
   ],
   "source": [
    "combined_df.groupby('Notes')['commentCount'].mean()"
   ]
  },
  {
   "cell_type": "markdown",
   "metadata": {},
   "source": [
    "According to this data, plant-based accounts get the most comments per post and vegan accounts get the least amount of comments per post. "
   ]
  },
  {
   "cell_type": "code",
   "execution_count": 54,
   "metadata": {},
   "outputs": [],
   "source": [
    "combined_df = combined_df.set_index(pd.to_datetime(combined_df['pubDate'],errors='coerce'))"
   ]
  },
  {
   "cell_type": "code",
   "execution_count": 55,
   "metadata": {},
   "outputs": [
    {
     "data": {
      "text/plain": [
       "Text(0.5, 1.0, 'Number of Posts per Type of Healthy Food Category in 2020')"
      ]
     },
     "execution_count": 55,
     "metadata": {},
     "output_type": "execute_result"
    },
    {
     "data": {
      "image/png": "[encoded data removed]",
      "text/plain": [
       "<Figure size 864x288 with 1 Axes>"
      ]
     },
     "metadata": {
      "needs_background": "light"
     },
     "output_type": "display_data"
    }
   ],
   "source": [
    "combined_df.loc['2020'].groupby('Notes').resample('W').size().unstack(0).plot(figsize=(12,4))\n",
    "plt.ylabel('Number of Posts')\n",
    "plt.title('Number of Posts per Type of Healthy Food Category in 2020')"
   ]
  },
  {
   "cell_type": "markdown",
   "metadata": {},
   "source": [
    "This graph shows number of posts per week for each category in 2020. This models similar trends as what we have seen with for the aggregated average number of posts in 2020. The same trends apply: the number of posts varies and the dip in June corresponds with an allegiance to the \"Black Lives Matter\" Movement.\n",
    "\n",
    "What makes this graph unique is that it is separated by \"other\" (blue), \"paleo\" (orange), \"plant based\" (green) and \"vegan\" (red). The \"other\" trend line is significantly higher than the rest which is likely because there are the most accounts in this category. Interestingly, the four lines follow similar dips and peaks. For example, May spikes, June declines, August peaks, and mid-October spikes. However, there is no conclusive reason or explanation for this association. "
   ]
  },
  {
   "cell_type": "code",
   "execution_count": 57,
   "metadata": {},
   "outputs": [
    {
     "data": {
      "text/plain": [
       "Text(0.5, 1.0, 'Average Number of Likes per Type of Healthy Food Category in 2020')"
      ]
     },
     "execution_count": 57,
     "metadata": {},
     "output_type": "execute_result"
    },
    {
     "data": {
      "image/png": "[encoded data removed]",
      "text/plain": [
       "<Figure size 864x288 with 1 Axes>"
      ]
     },
     "metadata": {
      "needs_background": "light"
     },
     "output_type": "display_data"
    }
   ],
   "source": [
    "combined_df.loc['2020'].groupby('Notes').resample('W')['likeCount'].mean().unstack(0).plot(figsize=(12,4))\n",
    "plt.ylabel('Number of Likes')\n",
    "plt.title('Average Number of Likes per Type of Healthy Food Category in 2020')"
   ]
  },
  {
   "cell_type": "markdown",
   "metadata": {},
   "source": [
    "This graph shows the average number of likes per post on a weekly basis for each category in 2020. Like the graph above each category has its own line: \"other\" (blue), \"paleo\" (orange), \"plant based\" (green) and \"vegan\" (red). There is not a concrete trends in this graph either– it fluctuates as most like graphs do. However, it is notable that plant-based accounts seem to have certain abnormal peaks in January, March and May. As previously noted, plant based accounts have the most average likes which explains these increases."
   ]
  },
  {
   "cell_type": "code",
   "execution_count": 58,
   "metadata": {},
   "outputs": [
    {
     "data": {
      "text/plain": [
       "Text(0.5, 1.0, 'Average Number of Comments per Type of Healthy Food Category in 2020')"
      ]
     },
     "execution_count": 58,
     "metadata": {},
     "output_type": "execute_result"
    },
    {
     "data": {
      "image/png": "[encoded data removed]",
      "text/plain": [
       "<Figure size 864x288 with 1 Axes>"
      ]
     },
     "metadata": {
      "needs_background": "light"
     },
     "output_type": "display_data"
    }
   ],
   "source": [
    "combined_df.loc['2020'].groupby('Notes').resample('W')['commentCount'].mean().unstack(0).plot(figsize=(12,4))\n",
    "plt.ylabel('Number of Comments')\n",
    "plt.title('Average Number of Comments per Type of Healthy Food Category in 2020')"
   ]
  },
  {
   "cell_type": "markdown",
   "metadata": {},
   "source": [
    "Like the graph above each category has its own line: \"other\" (blue), \"paleo\" (orange), \"plant based\" (green) and \"vegan\" (red). This graph shows average comments over time for each type of account throughout 2020. For the sake of repetition– all this graphs fluctuates very open. Similar to what we see in the like count graph, plant-based accounts have the most average comments. Again, this means there is no right time post for comments. We see these spikes at certain months such as January, March, and May and August. "
   ]
  }
 ],
 "metadata": {
  "kernelspec": {
   "display_name": "Python 3",
   "language": "python",
   "name": "python3"
  },
  "language_info": {
   "codemirror_mode": {
    "name": "ipython",
    "version": 3
   },
   "file_extension": ".py",
   "mimetype": "text/x-python",
   "name": "python",
   "nbconvert_exporter": "python",
   "pygments_lexer": "ipython3",
   "version": "3.7.3"
  }
 },
 "nbformat": 4,
 "nbformat_minor": 2
}
