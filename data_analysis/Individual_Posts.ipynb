{
 "cells": [
  {
   "cell_type": "code",
   "execution_count": 2,
   "metadata": {},
   "outputs": [],
   "source": [
    "import pandas as pd\n",
    "import matplotlib.pyplot as plt\n",
    "import warnings\n",
    "import numpy as np\n",
    "warnings.filterwarnings('ignore')"
   ]
  },
  {
   "cell_type": "markdown",
   "metadata": {},
   "source": [
    "# Individual Posts\n",
    " - Now that we have looked at like and comment count for the top 10 accounts, it is worth taking a look at the individual post level. I combed through the top 10 accounts and collected data on the day of the week, number of likes, number of comments, and the type of content that was being included in the post. "
   ]
  },
  {
   "cell_type": "code",
   "execution_count": 8,
   "metadata": {},
   "outputs": [],
   "source": [
    "post_df = pd.read_csv('../data/Posts.csv')"
   ]
  },
  {
   "cell_type": "code",
   "execution_count": 9,
   "metadata": {},
   "outputs": [
    {
     "data": {
      "text/plain": [
       "(300, 5)"
      ]
     },
     "execution_count": 9,
     "metadata": {},
     "output_type": "execute_result"
    }
   ],
   "source": [
    "post_df.shape"
   ]
  },
  {
   "cell_type": "code",
   "execution_count": 10,
   "metadata": {},
   "outputs": [
    {
     "data": {
      "text/html": [
       "<div>\n",
       "<style scoped>\n",
       "    .dataframe tbody tr th:only-of-type {\n",
       "        vertical-align: middle;\n",
       "    }\n",
       "\n",
       "    .dataframe tbody tr th {\n",
       "        vertical-align: top;\n",
       "    }\n",
       "\n",
       "    .dataframe thead th {\n",
       "        text-align: right;\n",
       "    }\n",
       "</style>\n",
       "<table border=\"1\" class=\"dataframe\">\n",
       "  <thead>\n",
       "    <tr style=\"text-align: right;\">\n",
       "      <th></th>\n",
       "      <th>Day</th>\n",
       "      <th>Likes</th>\n",
       "      <th>Comments</th>\n",
       "      <th>Type</th>\n",
       "      <th>Account</th>\n",
       "    </tr>\n",
       "  </thead>\n",
       "  <tbody>\n",
       "    <tr>\n",
       "      <th>0</th>\n",
       "      <td>Friday</td>\n",
       "      <td>2,652</td>\n",
       "      <td>108.0</td>\n",
       "      <td>Baking</td>\n",
       "      <td>rachlmansfield</td>\n",
       "    </tr>\n",
       "    <tr>\n",
       "      <th>1</th>\n",
       "      <td>Thursday</td>\n",
       "      <td>3879</td>\n",
       "      <td>103.0</td>\n",
       "      <td>Cooking</td>\n",
       "      <td>rachlmansfield</td>\n",
       "    </tr>\n",
       "    <tr>\n",
       "      <th>2</th>\n",
       "      <td>Thursday</td>\n",
       "      <td>4869</td>\n",
       "      <td>211.0</td>\n",
       "      <td>Baking</td>\n",
       "      <td>rachlmansfield</td>\n",
       "    </tr>\n",
       "    <tr>\n",
       "      <th>3</th>\n",
       "      <td>Wednesday</td>\n",
       "      <td>4913</td>\n",
       "      <td>414.0</td>\n",
       "      <td>Personal</td>\n",
       "      <td>rachlmansfield</td>\n",
       "    </tr>\n",
       "    <tr>\n",
       "      <th>4</th>\n",
       "      <td>Wednesday</td>\n",
       "      <td>5031</td>\n",
       "      <td>185.0</td>\n",
       "      <td>Baking</td>\n",
       "      <td>rachlmansfield</td>\n",
       "    </tr>\n",
       "  </tbody>\n",
       "</table>\n",
       "</div>"
      ],
      "text/plain": [
       "         Day  Likes  Comments     Type          Account\n",
       "0     Friday  2,652     108.0    Baking  rachlmansfield\n",
       "1   Thursday   3879     103.0   Cooking  rachlmansfield\n",
       "2   Thursday   4869     211.0    Baking  rachlmansfield\n",
       "3  Wednesday   4913     414.0  Personal  rachlmansfield\n",
       "4  Wednesday   5031     185.0    Baking  rachlmansfield"
      ]
     },
     "execution_count": 10,
     "metadata": {},
     "output_type": "execute_result"
    }
   ],
   "source": [
    "post_df.head()"
   ]
  },
  {
   "cell_type": "code",
   "execution_count": 11,
   "metadata": {},
   "outputs": [
    {
     "data": {
      "text/plain": [
       "Account                Type    \n",
       "chocolatecoveredkatie  Baking      28\n",
       "                       Cooking      1\n",
       "maddielymburner        Baking       3\n",
       "                       Cooking      5\n",
       "                       Personal    22\n",
       "minimalistbaker        Baking       8\n",
       "                       Beverage     3\n",
       "                       Cooking     19\n",
       "muchin.withmar         Ad           1\n",
       "                       Baking      14\n",
       "                       Cooking     15\n",
       "pickuplimes            Baking       3\n",
       "                       Beverage     4\n",
       "                       Cooking     18\n",
       "                       Personal     5\n",
       "plantifullybased       Ad           5\n",
       "                       Baking       5\n",
       "                       Cooking     20\n",
       "                       Personal     1\n",
       "purelykaylie           Ad           1\n",
       "                       Baking      13\n",
       "                       Beverage     6\n",
       "                       Cooking     10\n",
       "rachlmansfield         Ad           6\n",
       "                       Baking      19\n",
       "                       Cooking      4\n",
       "                       Personal     1\n",
       "shutthekaleup          Ad           2\n",
       "                       Baking       6\n",
       "                       Beverage     2\n",
       "                       Cooking      2\n",
       "                       Personal    18\n",
       "talinegabriel          Ad           6\n",
       "                       Baking       2\n",
       "                       Beverage     2\n",
       "                       Cooking      2\n",
       "                       Personal    18\n",
       "dtype: int64"
      ]
     },
     "execution_count": 11,
     "metadata": {},
     "output_type": "execute_result"
    }
   ],
   "source": [
    "type_count_df = post_df.groupby(['Account','Type ']).size()\n",
    "type_count_df"
   ]
  },
  {
   "cell_type": "markdown",
   "metadata": {},
   "source": [
    "Here is how I categorized each post– \n",
    " - Baking: pastries, bread, cookies, muffins; typically desserts and breakfasts\n",
    " - Cooking: any protein (eggs, poultry, meat, fish), pizzas, wraps, sandwiches; typically lunch or dinner\n",
    " - Beverage: coffee, tea, smoothies \n",
    " - Ad: many influencers are sponsored by companies to advertise their products. Ads often take the form of a \"giveaway\" in which a user will send a free sample to one lucky Follower that wins by commenting and liking the Ad post.\n",
    " - Personal: any post with a picture of the account owner, typically with a personal or inspirational message\n",
    "\n",
    "This table shows how many of each type of post each account posts. After seeing this table, it is clear that each account has a signature type of post. \n",
    "\n",
    " - Baking: `chocolatecoveredkatie`, `purelykaylie`, `rachlmansfield`\n",
    " - Cooking: `minimalistbaker`, `munchin.withmar`, `pickuplimes`, `plantifullybased`\n",
    " - Personal: `maddielymburner`, `shutthekaleup`, `talinegabriel` \n",
    " - None of these accounts post beverages or ads the most. "
   ]
  },
  {
   "cell_type": "code",
   "execution_count": 13,
   "metadata": {},
   "outputs": [
    {
     "data": {
      "text/plain": [
       "Text(0.5, 1.0, 'Number of Posts for Top 10 Accounts Based on Content Category')"
      ]
     },
     "execution_count": 13,
     "metadata": {},
     "output_type": "execute_result"
    },
    {
     "data": {
      "image/png": "[encoded data removed]",
      "text/plain": [
       "<Figure size 864x288 with 1 Axes>"
      ]
     },
     "metadata": {
      "needs_background": "light"
     },
     "output_type": "display_data"
    }
   ],
   "source": [
    "type_count_df.unstack().plot(kind='bar',stacked=True, figsize = (12,4))\n",
    "plt.ylabel('Number of Posts')\n",
    "plt.title('Number of Posts for Top 10 Accounts Based on Content Category')"
   ]
  },
  {
   "cell_type": "markdown",
   "metadata": {},
   "source": [
    "This is a visual representation of what I previously noted: each account has a \"signature\" type of post in these four categories."
   ]
  },
  {
   "cell_type": "markdown",
   "metadata": {},
   "source": [
    "# Each post by likes"
   ]
  },
  {
   "cell_type": "code",
   "execution_count": 50,
   "metadata": {},
   "outputs": [
    {
     "data": {
      "text/html": [
       "<div>\n",
       "<style scoped>\n",
       "    .dataframe tbody tr th:only-of-type {\n",
       "        vertical-align: middle;\n",
       "    }\n",
       "\n",
       "    .dataframe tbody tr th {\n",
       "        vertical-align: top;\n",
       "    }\n",
       "\n",
       "    .dataframe thead th {\n",
       "        text-align: right;\n",
       "    }\n",
       "</style>\n",
       "<table border=\"1\" class=\"dataframe\">\n",
       "  <thead>\n",
       "    <tr style=\"text-align: right;\">\n",
       "      <th></th>\n",
       "      <th>Day</th>\n",
       "      <th>Likes</th>\n",
       "      <th>Comments</th>\n",
       "      <th>Type</th>\n",
       "    </tr>\n",
       "    <tr>\n",
       "      <th>Account</th>\n",
       "      <th></th>\n",
       "      <th></th>\n",
       "      <th></th>\n",
       "      <th></th>\n",
       "    </tr>\n",
       "  </thead>\n",
       "  <tbody>\n",
       "    <tr>\n",
       "      <th>chocolatecoveredkatie</th>\n",
       "      <td>Saturday</td>\n",
       "      <td>4261</td>\n",
       "      <td>33.0</td>\n",
       "      <td>Baking</td>\n",
       "    </tr>\n",
       "    <tr>\n",
       "      <th>maddielymburner</th>\n",
       "      <td>Friday</td>\n",
       "      <td>36580</td>\n",
       "      <td>244.0</td>\n",
       "      <td>Personal</td>\n",
       "    </tr>\n",
       "    <tr>\n",
       "      <th>minimalistbaker</th>\n",
       "      <td>Friday</td>\n",
       "      <td>1290</td>\n",
       "      <td>14.0</td>\n",
       "      <td>Cooking</td>\n",
       "    </tr>\n",
       "    <tr>\n",
       "      <th>muchin.withmar</th>\n",
       "      <td>Saturday</td>\n",
       "      <td>2046</td>\n",
       "      <td>156.0</td>\n",
       "      <td>Baking</td>\n",
       "    </tr>\n",
       "    <tr>\n",
       "      <th>pickuplimes</th>\n",
       "      <td>Friday</td>\n",
       "      <td>17668</td>\n",
       "      <td>229.0</td>\n",
       "      <td>Baking</td>\n",
       "    </tr>\n",
       "    <tr>\n",
       "      <th>plantifullybased</th>\n",
       "      <td>Saturday</td>\n",
       "      <td>7206</td>\n",
       "      <td>94.0</td>\n",
       "      <td>Cooking</td>\n",
       "    </tr>\n",
       "    <tr>\n",
       "      <th>purelykaylie</th>\n",
       "      <td>Saturday</td>\n",
       "      <td>1746</td>\n",
       "      <td>37.0</td>\n",
       "      <td>Cooking</td>\n",
       "    </tr>\n",
       "    <tr>\n",
       "      <th>rachlmansfield</th>\n",
       "      <td>Friday</td>\n",
       "      <td>2,652</td>\n",
       "      <td>108.0</td>\n",
       "      <td>Baking</td>\n",
       "    </tr>\n",
       "    <tr>\n",
       "      <th>shutthekaleup</th>\n",
       "      <td>Friday</td>\n",
       "      <td>10333</td>\n",
       "      <td>2539.0</td>\n",
       "      <td>Ad</td>\n",
       "    </tr>\n",
       "    <tr>\n",
       "      <th>talinegabriel</th>\n",
       "      <td>Friday</td>\n",
       "      <td>1643</td>\n",
       "      <td>14.0</td>\n",
       "      <td>Ad</td>\n",
       "    </tr>\n",
       "  </tbody>\n",
       "</table>\n",
       "</div>"
      ],
      "text/plain": [
       "                            Day  Likes  Comments     Type \n",
       "Account                                                   \n",
       "chocolatecoveredkatie  Saturday   4261      33.0    Baking\n",
       "maddielymburner          Friday  36580     244.0  Personal\n",
       "minimalistbaker          Friday   1290      14.0   Cooking\n",
       "muchin.withmar         Saturday   2046     156.0    Baking\n",
       "pickuplimes              Friday  17668     229.0    Baking\n",
       "plantifullybased       Saturday   7206      94.0   Cooking\n",
       "purelykaylie           Saturday   1746      37.0   Cooking\n",
       "rachlmansfield           Friday  2,652     108.0    Baking\n",
       "shutthekaleup            Friday  10333    2539.0        Ad\n",
       "talinegabriel            Friday   1643      14.0        Ad"
      ]
     },
     "execution_count": 50,
     "metadata": {},
     "output_type": "execute_result"
    }
   ],
   "source": [
    "acct_post_df = post_df.groupby('Account')\n",
    "acct_post_df.first()"
   ]
  },
  {
   "cell_type": "code",
   "execution_count": 51,
   "metadata": {},
   "outputs": [],
   "source": [
    "post_df['Likes'] = post_df['Likes'].str.replace(',','').astype(int)"
   ]
  },
  {
   "cell_type": "code",
   "execution_count": 52,
   "metadata": {},
   "outputs": [],
   "source": [
    "post_likes_df = post_df.groupby(['Account','Type '])['Likes'].mean()"
   ]
  },
  {
   "cell_type": "code",
   "execution_count": 53,
   "metadata": {
    "scrolled": true
   },
   "outputs": [
    {
     "data": {
      "text/html": [
       "<div>\n",
       "<style scoped>\n",
       "    .dataframe tbody tr th:only-of-type {\n",
       "        vertical-align: middle;\n",
       "    }\n",
       "\n",
       "    .dataframe tbody tr th {\n",
       "        vertical-align: top;\n",
       "    }\n",
       "\n",
       "    .dataframe thead th {\n",
       "        text-align: right;\n",
       "    }\n",
       "</style>\n",
       "<table border=\"1\" class=\"dataframe\">\n",
       "  <thead>\n",
       "    <tr style=\"text-align: right;\">\n",
       "      <th>Type</th>\n",
       "      <th>Ad</th>\n",
       "      <th>Baking</th>\n",
       "      <th>Beverage</th>\n",
       "      <th>Cooking</th>\n",
       "      <th>Personal</th>\n",
       "    </tr>\n",
       "    <tr>\n",
       "      <th>Account</th>\n",
       "      <th></th>\n",
       "      <th></th>\n",
       "      <th></th>\n",
       "      <th></th>\n",
       "      <th></th>\n",
       "    </tr>\n",
       "  </thead>\n",
       "  <tbody>\n",
       "    <tr>\n",
       "      <th>chocolatecoveredkatie</th>\n",
       "      <td>NaN</td>\n",
       "      <td>8382.535714</td>\n",
       "      <td>NaN</td>\n",
       "      <td>4681.000000</td>\n",
       "      <td>NaN</td>\n",
       "    </tr>\n",
       "    <tr>\n",
       "      <th>maddielymburner</th>\n",
       "      <td>NaN</td>\n",
       "      <td>23134.000000</td>\n",
       "      <td>NaN</td>\n",
       "      <td>25348.000000</td>\n",
       "      <td>38265.409091</td>\n",
       "    </tr>\n",
       "    <tr>\n",
       "      <th>minimalistbaker</th>\n",
       "      <td>NaN</td>\n",
       "      <td>9280.750000</td>\n",
       "      <td>13599.000000</td>\n",
       "      <td>10094.105263</td>\n",
       "      <td>NaN</td>\n",
       "    </tr>\n",
       "    <tr>\n",
       "      <th>muchin.withmar</th>\n",
       "      <td>842.000000</td>\n",
       "      <td>1330.500000</td>\n",
       "      <td>NaN</td>\n",
       "      <td>1255.733333</td>\n",
       "      <td>NaN</td>\n",
       "    </tr>\n",
       "    <tr>\n",
       "      <th>pickuplimes</th>\n",
       "      <td>NaN</td>\n",
       "      <td>27211.000000</td>\n",
       "      <td>26700.000000</td>\n",
       "      <td>30777.055556</td>\n",
       "      <td>78274.800000</td>\n",
       "    </tr>\n",
       "    <tr>\n",
       "      <th>plantifullybased</th>\n",
       "      <td>1036.400000</td>\n",
       "      <td>5796.400000</td>\n",
       "      <td>NaN</td>\n",
       "      <td>5819.650000</td>\n",
       "      <td>3060.000000</td>\n",
       "    </tr>\n",
       "    <tr>\n",
       "      <th>purelykaylie</th>\n",
       "      <td>5044.000000</td>\n",
       "      <td>4233.538462</td>\n",
       "      <td>4151.333333</td>\n",
       "      <td>2058.200000</td>\n",
       "      <td>NaN</td>\n",
       "    </tr>\n",
       "    <tr>\n",
       "      <th>rachlmansfield</th>\n",
       "      <td>5236.333333</td>\n",
       "      <td>6313.842105</td>\n",
       "      <td>NaN</td>\n",
       "      <td>5660.500000</td>\n",
       "      <td>4913.000000</td>\n",
       "    </tr>\n",
       "    <tr>\n",
       "      <th>shutthekaleup</th>\n",
       "      <td>10875.000000</td>\n",
       "      <td>9021.166667</td>\n",
       "      <td>6252.000000</td>\n",
       "      <td>35673.000000</td>\n",
       "      <td>13662.222222</td>\n",
       "    </tr>\n",
       "    <tr>\n",
       "      <th>talinegabriel</th>\n",
       "      <td>3173.166667</td>\n",
       "      <td>3583.500000</td>\n",
       "      <td>2540.500000</td>\n",
       "      <td>3642.500000</td>\n",
       "      <td>3571.722222</td>\n",
       "    </tr>\n",
       "  </tbody>\n",
       "</table>\n",
       "</div>"
      ],
      "text/plain": [
       "Type                             Ad        Baking      Beverage       Cooking  \\\n",
       "Account                                                                         \n",
       "chocolatecoveredkatie           NaN   8382.535714           NaN   4681.000000   \n",
       "maddielymburner                 NaN  23134.000000           NaN  25348.000000   \n",
       "minimalistbaker                 NaN   9280.750000  13599.000000  10094.105263   \n",
       "muchin.withmar           842.000000   1330.500000           NaN   1255.733333   \n",
       "pickuplimes                     NaN  27211.000000  26700.000000  30777.055556   \n",
       "plantifullybased        1036.400000   5796.400000           NaN   5819.650000   \n",
       "purelykaylie            5044.000000   4233.538462   4151.333333   2058.200000   \n",
       "rachlmansfield          5236.333333   6313.842105           NaN   5660.500000   \n",
       "shutthekaleup          10875.000000   9021.166667   6252.000000  35673.000000   \n",
       "talinegabriel           3173.166667   3583.500000   2540.500000   3642.500000   \n",
       "\n",
       "Type                       Personal  \n",
       "Account                              \n",
       "chocolatecoveredkatie           NaN  \n",
       "maddielymburner        38265.409091  \n",
       "minimalistbaker                 NaN  \n",
       "muchin.withmar                  NaN  \n",
       "pickuplimes            78274.800000  \n",
       "plantifullybased        3060.000000  \n",
       "purelykaylie                    NaN  \n",
       "rachlmansfield          4913.000000  \n",
       "shutthekaleup          13662.222222  \n",
       "talinegabriel           3571.722222  "
      ]
     },
     "execution_count": 53,
     "metadata": {},
     "output_type": "execute_result"
    }
   ],
   "source": [
    "post_likes_df.unstack()"
   ]
  },
  {
   "cell_type": "markdown",
   "metadata": {},
   "source": [
    "This table categorizes each post by five categories: ad, baking, beverage, cooking, and personal and shows how many likes each user received on all their posts by category. Ad refers to accounts that are posting giveaways and other products they are being sponsored to sell. Personal posts refers to posts of the Account user– often with a personal message. The goal of this is to see if certain content gets more likes than other content. "
   ]
  },
  {
   "cell_type": "code",
   "execution_count": 56,
   "metadata": {},
   "outputs": [
    {
     "data": {
      "text/plain": [
       "Text(0.5, 1.0, 'Number of Likes for Top 10 Accounts Based on Content Category')"
      ]
     },
     "execution_count": 56,
     "metadata": {},
     "output_type": "execute_result"
    },
    {
     "data": {
      "image/png": "[encoded data removed]",
      "text/plain": [
       "<Figure size 864x288 with 1 Axes>"
      ]
     },
     "metadata": {
      "needs_background": "light"
     },
     "output_type": "display_data"
    }
   ],
   "source": [
    "post_likes_df.unstack().plot(kind='bar',stacked=True, figsize = (12,4))\n",
    "plt.ylabel('Number of Likes')\n",
    "plt.title('Number of Likes for Top 10 Accounts Based on Content Category')"
   ]
  },
  {
   "cell_type": "markdown",
   "metadata": {},
   "source": [
    "This chart shows the average amount of likes each type of post gets for every account. There are not many concrete conclusions I can draw from this data, but  some accounts clearly get the most amount of likes for certain content. For example, `pickuplimes` seems to get a lot of likes for personal content, while `shutthekaleup` gets a lot of likes for cooking photos. This goes back to the fact that each account is likely to have a signature type of post.   "
   ]
  },
  {
   "cell_type": "markdown",
   "metadata": {},
   "source": [
    "# Each post by comments"
   ]
  },
  {
   "cell_type": "code",
   "execution_count": 58,
   "metadata": {},
   "outputs": [],
   "source": [
    "post_comments_df = post_df.groupby(['Account','Type '])['Comments'].mean()"
   ]
  },
  {
   "cell_type": "code",
   "execution_count": 59,
   "metadata": {},
   "outputs": [
    {
     "data": {
      "text/html": [
       "<div>\n",
       "<style scoped>\n",
       "    .dataframe tbody tr th:only-of-type {\n",
       "        vertical-align: middle;\n",
       "    }\n",
       "\n",
       "    .dataframe tbody tr th {\n",
       "        vertical-align: top;\n",
       "    }\n",
       "\n",
       "    .dataframe thead th {\n",
       "        text-align: right;\n",
       "    }\n",
       "</style>\n",
       "<table border=\"1\" class=\"dataframe\">\n",
       "  <thead>\n",
       "    <tr style=\"text-align: right;\">\n",
       "      <th>Type</th>\n",
       "      <th>Ad</th>\n",
       "      <th>Baking</th>\n",
       "      <th>Beverage</th>\n",
       "      <th>Cooking</th>\n",
       "      <th>Personal</th>\n",
       "    </tr>\n",
       "    <tr>\n",
       "      <th>Account</th>\n",
       "      <th></th>\n",
       "      <th></th>\n",
       "      <th></th>\n",
       "      <th></th>\n",
       "      <th></th>\n",
       "    </tr>\n",
       "  </thead>\n",
       "  <tbody>\n",
       "    <tr>\n",
       "      <th>chocolatecoveredkatie</th>\n",
       "      <td>NaN</td>\n",
       "      <td>90.464286</td>\n",
       "      <td>NaN</td>\n",
       "      <td>56.000000</td>\n",
       "      <td>NaN</td>\n",
       "    </tr>\n",
       "    <tr>\n",
       "      <th>maddielymburner</th>\n",
       "      <td>NaN</td>\n",
       "      <td>258.333333</td>\n",
       "      <td>NaN</td>\n",
       "      <td>244.800000</td>\n",
       "      <td>598.545455</td>\n",
       "    </tr>\n",
       "    <tr>\n",
       "      <th>minimalistbaker</th>\n",
       "      <td>NaN</td>\n",
       "      <td>123.250000</td>\n",
       "      <td>188.000000</td>\n",
       "      <td>98.947368</td>\n",
       "      <td>NaN</td>\n",
       "    </tr>\n",
       "    <tr>\n",
       "      <th>muchin.withmar</th>\n",
       "      <td>250.000000</td>\n",
       "      <td>183.571429</td>\n",
       "      <td>NaN</td>\n",
       "      <td>186.133333</td>\n",
       "      <td>NaN</td>\n",
       "    </tr>\n",
       "    <tr>\n",
       "      <th>pickuplimes</th>\n",
       "      <td>NaN</td>\n",
       "      <td>413.333333</td>\n",
       "      <td>369.000000</td>\n",
       "      <td>434.555556</td>\n",
       "      <td>1011.200000</td>\n",
       "    </tr>\n",
       "    <tr>\n",
       "      <th>plantifullybased</th>\n",
       "      <td>284.000000</td>\n",
       "      <td>136.600000</td>\n",
       "      <td>NaN</td>\n",
       "      <td>150.850000</td>\n",
       "      <td>581.000000</td>\n",
       "    </tr>\n",
       "    <tr>\n",
       "      <th>purelykaylie</th>\n",
       "      <td>142.000000</td>\n",
       "      <td>85.615385</td>\n",
       "      <td>73.833333</td>\n",
       "      <td>57.400000</td>\n",
       "      <td>NaN</td>\n",
       "    </tr>\n",
       "    <tr>\n",
       "      <th>rachlmansfield</th>\n",
       "      <td>923.000000</td>\n",
       "      <td>221.894737</td>\n",
       "      <td>NaN</td>\n",
       "      <td>200.000000</td>\n",
       "      <td>414.000000</td>\n",
       "    </tr>\n",
       "    <tr>\n",
       "      <th>shutthekaleup</th>\n",
       "      <td>1644.500000</td>\n",
       "      <td>189.000000</td>\n",
       "      <td>261.000000</td>\n",
       "      <td>198.500000</td>\n",
       "      <td>274.944444</td>\n",
       "    </tr>\n",
       "    <tr>\n",
       "      <th>talinegabriel</th>\n",
       "      <td>51.333333</td>\n",
       "      <td>63.000000</td>\n",
       "      <td>69.500000</td>\n",
       "      <td>98.000000</td>\n",
       "      <td>80.777778</td>\n",
       "    </tr>\n",
       "  </tbody>\n",
       "</table>\n",
       "</div>"
      ],
      "text/plain": [
       "Type                            Ad      Baking    Beverage     Cooking  \\\n",
       "Account                                                                  \n",
       "chocolatecoveredkatie          NaN   90.464286         NaN   56.000000   \n",
       "maddielymburner                NaN  258.333333         NaN  244.800000   \n",
       "minimalistbaker                NaN  123.250000  188.000000   98.947368   \n",
       "muchin.withmar          250.000000  183.571429         NaN  186.133333   \n",
       "pickuplimes                    NaN  413.333333  369.000000  434.555556   \n",
       "plantifullybased        284.000000  136.600000         NaN  150.850000   \n",
       "purelykaylie            142.000000   85.615385   73.833333   57.400000   \n",
       "rachlmansfield          923.000000  221.894737         NaN  200.000000   \n",
       "shutthekaleup          1644.500000  189.000000  261.000000  198.500000   \n",
       "talinegabriel            51.333333   63.000000   69.500000   98.000000   \n",
       "\n",
       "Type                      Personal  \n",
       "Account                             \n",
       "chocolatecoveredkatie          NaN  \n",
       "maddielymburner         598.545455  \n",
       "minimalistbaker                NaN  \n",
       "muchin.withmar                 NaN  \n",
       "pickuplimes            1011.200000  \n",
       "plantifullybased        581.000000  \n",
       "purelykaylie                   NaN  \n",
       "rachlmansfield          414.000000  \n",
       "shutthekaleup           274.944444  \n",
       "talinegabriel            80.777778  "
      ]
     },
     "execution_count": 59,
     "metadata": {},
     "output_type": "execute_result"
    }
   ],
   "source": [
    "post_comments_df.unstack()"
   ]
  },
  {
   "cell_type": "markdown",
   "metadata": {},
   "source": [
    "This table shows how many comments each user received on all their posts by category. The goal of this is to see if certain content gets more likes than other content. As previously noted, most users have a \"signature\" type of post so it might depend on that."
   ]
  },
  {
   "cell_type": "code",
   "execution_count": 61,
   "metadata": {},
   "outputs": [
    {
     "data": {
      "text/plain": [
       "Text(0.5, 1.0, 'Number of Comments for Top 10 Accounts Based on Content Category')"
      ]
     },
     "execution_count": 61,
     "metadata": {},
     "output_type": "execute_result"
    },
    {
     "data": {
      "image/png": "[encoded data removed]",
      "text/plain": [
       "<Figure size 864x288 with 1 Axes>"
      ]
     },
     "metadata": {
      "needs_background": "light"
     },
     "output_type": "display_data"
    }
   ],
   "source": [
    "post_comments_df.unstack().plot(kind='bar',stacked=True, figsize = (12,4))\n",
    "plt.ylabel('Number of Comments')\n",
    "plt.title('Number of Comments for Top 10 Accounts Based on Content Category')"
   ]
  },
  {
   "cell_type": "markdown",
   "metadata": {},
   "source": [
    "This graph shows the average number of comments per each type of post for each user. This graph shows that comments definitely vary based on which type of media they post. For example, `shutthekaleup` and `rachlmansfield` get the most comments on ads. This is probably because a lot of giveaway posts say \"if you tag your friends on this post, you have the chance to win.\" Similarly,`'maddielymburner` `pickuplimes` and `plantifullybased` get the most comments on personal posts. From what I've seen in my own experience, personal posts are more conversational and influencers try to get personal. As a result, followers are more likely to comment as a way of showing support."
   ]
  }
 ],
 "metadata": {
  "kernelspec": {
   "display_name": "Python 3",
   "language": "python",
   "name": "python3"
  },
  "language_info": {
   "codemirror_mode": {
    "name": "ipython",
    "version": 3
   },
   "file_extension": ".py",
   "mimetype": "text/x-python",
   "name": "python",
   "nbconvert_exporter": "python",
   "pygments_lexer": "ipython3",
   "version": "3.7.3"
  }
 },
 "nbformat": 4,
 "nbformat_minor": 2
}
